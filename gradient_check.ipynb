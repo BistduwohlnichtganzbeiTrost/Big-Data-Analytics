{
 "cells": [
  {
   "cell_type": "code",
   "execution_count": 1,
   "metadata": {},
   "outputs": [],
   "source": [
    "import numpy as np\n",
    "from testCases import *\n",
    "from gc_utils import sigmoid, relu, dictionary_to_vector, vector_to_dictionary, gradients_to_vector"
   ]
  },
  {
   "cell_type": "code",
   "execution_count": 2,
   "metadata": {},
   "outputs": [],
   "source": [
    "### forward propagation\n",
    "def forward_propagation(x, theta):\n",
    "    \"\"\"import linear forward propagation (compute J(theta)=theta*x)\n",
    "    @params x: real-valued input\n",
    "    @params theta: param\n",
    "    @return J: value of function J\n",
    "    \"\"\"\n",
    "    J = np.dot(theta, x)\n",
    "    return J"
   ]
  },
  {
   "cell_type": "code",
   "execution_count": 3,
   "metadata": {},
   "outputs": [
    {
     "name": "stdout",
     "output_type": "stream",
     "text": [
      "J=8\n"
     ]
    }
   ],
   "source": [
    "x, theta = 2, 4\n",
    "J = forward_propagation(x, theta)\n",
    "print(\"J=\"+str(J))"
   ]
  },
  {
   "cell_type": "code",
   "execution_count": 4,
   "metadata": {},
   "outputs": [],
   "source": [
    "### backward propagation\n",
    "def backward_propagation(x, theta):\n",
    "    \"\"\"compute the derivative of J w.r.t. theta\n",
    "    @params x: real-valued input\n",
    "    @params theta: param\n",
    "    @return dtheta: the gradient of cost function J w.r.t. theta\n",
    "    \"\"\"\n",
    "    dtheta = x\n",
    "    return dtheta"
   ]
  },
  {
   "cell_type": "code",
   "execution_count": 5,
   "metadata": {},
   "outputs": [
    {
     "name": "stdout",
     "output_type": "stream",
     "text": [
      "dtheta = 2\n"
     ]
    }
   ],
   "source": [
    "x, theta = 2, 4\n",
    "dtheta = backward_propagation(x, theta)\n",
    "print (\"dtheta = \" + str(dtheta))"
   ]
  },
  {
   "cell_type": "code",
   "execution_count": 6,
   "metadata": {},
   "outputs": [],
   "source": [
    "def gradient_check(x, theta, eps=1e-7):\n",
    "    \"\"\"\n",
    "    implement backward propagation by taking limits\n",
    "    @params x: real-valued input\n",
    "    @params theta: param\n",
    "    @params eps: tiny perturbation\n",
    "    @return diff: difference between approximate gradient and gradient via backpropagation\n",
    "    \"\"\"\n",
    "    theta_plus = theta+eps\n",
    "    theta_minus = theta-eps\n",
    "    J_plus = np.dot(theta_plus, x)\n",
    "    J_minus = np.dot(theta_minus, x)\n",
    "    grad_approx = (J_plus-J_minus)/(2*eps)\n",
    "\n",
    "    grad = x\n",
    "\n",
    "    numerator = np.linalg.norm(grad_approx-grad)\n",
    "    denominator = np.linalg.norm(grad_approx) + np.linalg.norm(grad)\n",
    "    diff = numerator/denominator\n",
    "\n",
    "    if diff <= 1e-7:\n",
    "        print(\"Correct gradient\")\n",
    "    else:\n",
    "        print(\"Wrong gradient\")\n",
    "\n",
    "    return diff"
   ]
  },
  {
   "cell_type": "code",
   "execution_count": null,
   "metadata": {},
   "outputs": [],
   "source": [
    "def ndim_forward_propagation(X, Y, params):\n",
    "    \"\"\"\n",
    "    implement the n-dim forward propagation\n",
    "    @params X: training set for m samples\n",
    "    @params Y: labels for m samples\n",
    "    @params params: dict containing the parameters W1, b1, W2, b2, W3, b3\n",
    "    @return cost: cost function\n",
    "    \"\"\"\n",
    "    m = X.shape[1]\n",
    "    W1 = params[\"W1\"] # 5*4\n",
    "    b1 = params[\"b1\"] # 5*1\n",
    "    W2 = params[\"W2\"] # 3*5\n",
    "    b2 = params[\"b2\"] # 3*1\n",
    "    W3 = params[\"W3\"] # 1*3\n",
    "    b3 = params[\"b3\"] # 1*1\n",
    "\n",
    "    # linear -> relu -> linear -> relu -> linear -> sigmoid"
   ]
  }
 ],
 "metadata": {
  "kernelspec": {
   "display_name": "Python 3",
   "language": "python",
   "name": "python3"
  },
  "language_info": {
   "codemirror_mode": {
    "name": "ipython",
    "version": 3
   },
   "file_extension": ".py",
   "mimetype": "text/x-python",
   "name": "python",
   "nbconvert_exporter": "python",
   "pygments_lexer": "ipython3",
   "version": "3.10.8"
  },
  "orig_nbformat": 4
 },
 "nbformat": 4,
 "nbformat_minor": 2
}
